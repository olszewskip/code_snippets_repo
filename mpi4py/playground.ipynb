{
 "cells": [
  {
   "cell_type": "code",
   "execution_count": 1,
   "metadata": {},
   "outputs": [
    {
     "name": "stdout",
     "output_type": "stream",
     "text": [
      "Overwriting tutorial1.py\n"
     ]
    }
   ],
   "source": [
    "%%writefile tutorial1.py\n",
    "from mpi4py import MPI\n",
    "\n",
    "comm = MPI.COMM_WORLD\n",
    "rank = comm.Get_rank()\n",
    "\n",
    "if rank == 0:\n",
    "    data = {'a': 7, 'b': 3.14}\n",
    "    comm.send(data, dest=1, tag=11) # tag may be omitted\n",
    "elif rank == 1:\n",
    "    data = comm.recv(source=0, tag=11)\n",
    "    print(rank, data)\n"
   ]
  },
  {
   "cell_type": "code",
   "execution_count": 2,
   "metadata": {},
   "outputs": [
    {
     "name": "stdout",
     "output_type": "stream",
     "text": [
      "1 {'a': 7, 'b': 3.14}\n"
     ]
    }
   ],
   "source": [
    "%%bash\n",
    "mpirun -n 4 python tutorial1.py"
   ]
  },
  {
   "cell_type": "markdown",
   "metadata": {},
   "source": [
    "---"
   ]
  },
  {
   "cell_type": "code",
   "execution_count": 3,
   "metadata": {},
   "outputs": [
    {
     "name": "stdout",
     "output_type": "stream",
     "text": [
      "Overwriting tutorial2.py\n"
     ]
    }
   ],
   "source": [
    "%%writefile tutorial2.py\n",
    "from mpi4py import MPI\n",
    "\n",
    "comm = MPI.COMM_WORLD\n",
    "rank = comm.Get_rank()\n",
    "\n",
    "if rank == 0:\n",
    "    data = {'a': 7, 'b': 3.14}\n",
    "    req = comm.isend(data, dest=1, tag=11)\n",
    "    req.wait()\n",
    "elif rank == 1:\n",
    "    req = comm.irecv(source=0, tag=11)\n",
    "    data = req.wait()\n",
    "    print(rank, data)"
   ]
  },
  {
   "cell_type": "code",
   "execution_count": 4,
   "metadata": {},
   "outputs": [
    {
     "name": "stdout",
     "output_type": "stream",
     "text": [
      "1 {'a': 7, 'b': 3.14}\n"
     ]
    }
   ],
   "source": [
    "%%bash\n",
    "mpirun -n 4 python tutorial2.py"
   ]
  },
  {
   "cell_type": "markdown",
   "metadata": {},
   "source": [
    "---"
   ]
  },
  {
   "cell_type": "code",
   "execution_count": 5,
   "metadata": {},
   "outputs": [
    {
     "name": "stdout",
     "output_type": "stream",
     "text": [
      "Overwriting tutorial3.py\n"
     ]
    }
   ],
   "source": [
    "%%writefile tutorial3.py\n",
    "from mpi4py import MPI\n",
    "import numpy\n",
    "\n",
    "comm = MPI.COMM_WORLD\n",
    "rank = comm.Get_rank()\n",
    "\n",
    "# passing MPI datatypes explicitly\n",
    "if rank == 0:\n",
    "    data = numpy.arange(20, dtype='i')\n",
    "    print('a', rank, data, data.dtype)\n",
    "    comm.Send([data, MPI.INT], dest=1, tag=77)\n",
    "elif rank == 1:\n",
    "    data = numpy.empty(20, dtype='i')\n",
    "    comm.Recv([data, MPI.INT], source=0, tag=77)\n",
    "    print('b', rank, data, data.dtype)\n",
    "    \n",
    "\n",
    "# automatic MPI datatype discovery\n",
    "if rank == 0:\n",
    "    data = numpy.arange(10, dtype=numpy.float64)\n",
    "    print('a', rank, data, data.dtype)\n",
    "    comm.Send(data, dest=1, tag=13)\n",
    "elif rank == 1:\n",
    "    data = numpy.empty(10, dtype=numpy.float64)\n",
    "    comm.Recv(data, source=0, tag=13)\n",
    "    print('b', rank, data, data.dtype)"
   ]
  },
  {
   "cell_type": "code",
   "execution_count": 6,
   "metadata": {},
   "outputs": [
    {
     "name": "stdout",
     "output_type": "stream",
     "text": [
      "a 0 [ 0  1  2  3  4  5  6  7  8  9 10 11 12 13 14 15 16 17 18 19] int32\n",
      "b 1 [ 0  1  2  3  4  5  6  7  8  9 10 11 12 13 14 15 16 17 18 19] int32\n",
      "a 0 [0. 1. 2. 3. 4. 5. 6. 7. 8. 9.] float64\n",
      "b 1 [0. 1. 2. 3. 4. 5. 6. 7. 8. 9.] float64\n"
     ]
    }
   ],
   "source": [
    "%%bash\n",
    "mpirun -n 4 python tutorial3.py"
   ]
  },
  {
   "cell_type": "markdown",
   "metadata": {},
   "source": [
    "---\n",
    "bcast"
   ]
  },
  {
   "cell_type": "code",
   "execution_count": 7,
   "metadata": {},
   "outputs": [
    {
     "name": "stdout",
     "output_type": "stream",
     "text": [
      "Overwriting tutorial4.py\n"
     ]
    }
   ],
   "source": [
    "%%writefile tutorial4.py\n",
    "from mpi4py import MPI\n",
    "\n",
    "comm = MPI.COMM_WORLD\n",
    "rank = comm.Get_rank()\n",
    "\n",
    "if rank == 0:\n",
    "    data = {'key1' : [7, 2.72, 2+3j],\n",
    "            'key2' : ( 'abc', 'xyz')}\n",
    "else:\n",
    "    data = None\n",
    "    \n",
    "data = comm.bcast(data, root=0)\n",
    "\n",
    "print(rank, data)"
   ]
  },
  {
   "cell_type": "code",
   "execution_count": 8,
   "metadata": {},
   "outputs": [
    {
     "name": "stdout",
     "output_type": "stream",
     "text": [
      "0 {'key2': ('abc', 'xyz'), 'key1': [7, 2.72, (2+3j)]}\n",
      "1 {'key2': ('abc', 'xyz'), 'key1': [7, 2.72, (2+3j)]}\n",
      "2 {'key1': [7, 2.72, (2+3j)], 'key2': ('abc', 'xyz')}\n",
      "3 {'key1': [7, 2.72, (2+3j)], 'key2': ('abc', 'xyz')}\n"
     ]
    }
   ],
   "source": [
    "%%bash\n",
    "mpirun -n 4 python tutorial4.py"
   ]
  },
  {
   "cell_type": "markdown",
   "metadata": {},
   "source": [
    "---\n",
    "scatter"
   ]
  },
  {
   "cell_type": "code",
   "execution_count": 9,
   "metadata": {},
   "outputs": [
    {
     "name": "stdout",
     "output_type": "stream",
     "text": [
      "Overwriting tutorial5.py\n"
     ]
    }
   ],
   "source": [
    "%%writefile tutorial5.py\n",
    "from mpi4py import MPI\n",
    "\n",
    "comm = MPI.COMM_WORLD\n",
    "size = comm.Get_size()\n",
    "rank = comm.Get_rank()\n",
    "\n",
    "if rank == 0:\n",
    "    data = [(i+1)**2 for i in range(size)]\n",
    "else:\n",
    "    data = None\n",
    "data = comm.scatter(data, root=0)\n",
    "assert data == (rank+1)**2"
   ]
  },
  {
   "cell_type": "code",
   "execution_count": 10,
   "metadata": {},
   "outputs": [],
   "source": [
    "%%bash\n",
    "mpirun -n 4 python tutorial5.py"
   ]
  },
  {
   "cell_type": "markdown",
   "metadata": {},
   "source": [
    "---\n",
    "gather"
   ]
  },
  {
   "cell_type": "code",
   "execution_count": 11,
   "metadata": {},
   "outputs": [
    {
     "name": "stdout",
     "output_type": "stream",
     "text": [
      "Overwriting tutorial6.py\n"
     ]
    }
   ],
   "source": [
    "%%writefile tutorial6.py\n",
    "from mpi4py import MPI\n",
    "\n",
    "comm = MPI.COMM_WORLD\n",
    "size = comm.Get_size()\n",
    "rank = comm.Get_rank()\n",
    "\n",
    "data = (rank+1)**2\n",
    "data = comm.gather(data, root=0)\n",
    "if rank == 0:\n",
    "    for i in range(size):\n",
    "        assert data[i] == (i+1)**2\n",
    "else:\n",
    "    assert data is None\n",
    "    \n",
    "print(rank, data, type(data))"
   ]
  },
  {
   "cell_type": "code",
   "execution_count": 12,
   "metadata": {},
   "outputs": [
    {
     "name": "stdout",
     "output_type": "stream",
     "text": [
      "1 None <class 'NoneType'>\n",
      "3 None <class 'NoneType'>\n",
      "2 None <class 'NoneType'>\n",
      "0 [1, 4, 9, 16] <class 'list'>\n"
     ]
    }
   ],
   "source": [
    "%%bash\n",
    "mpirun -n 4 python tutorial6.py"
   ]
  },
  {
   "cell_type": "markdown",
   "metadata": {},
   "source": [
    "---\n",
    "Bcast"
   ]
  },
  {
   "cell_type": "code",
   "execution_count": 13,
   "metadata": {},
   "outputs": [
    {
     "name": "stdout",
     "output_type": "stream",
     "text": [
      "Overwriting tutorial7.py\n"
     ]
    }
   ],
   "source": [
    "%%writefile tutorial7.py\n",
    "from mpi4py import MPI\n",
    "import numpy as np\n",
    "\n",
    "comm = MPI.COMM_WORLD\n",
    "rank = comm.Get_rank()\n",
    "\n",
    "if rank == 0:\n",
    "    data = np.arange(10, dtype='int64')\n",
    "else:\n",
    "    data = np.empty(10, dtype='int64')\n",
    "    \n",
    "# print('a', rank, data)\n",
    "    \n",
    "comm.Bcast(data, root=0)\n",
    "for i in range(10):\n",
    "    assert data[i] == i\n",
    "\n",
    "print('b', rank, data, data.dtype)"
   ]
  },
  {
   "cell_type": "code",
   "execution_count": 14,
   "metadata": {},
   "outputs": [
    {
     "name": "stdout",
     "output_type": "stream",
     "text": [
      "b 0 [0 1 2 3 4 5 6 7 8 9] int64\n",
      "b 1 [0 1 2 3 4 5 6 7 8 9] int64\n",
      "b 2 [0 1 2 3 4 5 6 7 8 9] int64\n",
      "b 3 [0 1 2 3 4 5 6 7 8 9] int64\n"
     ]
    }
   ],
   "source": [
    "%%bash\n",
    "mpiexec -n 4 python tutorial7.py"
   ]
  },
  {
   "cell_type": "markdown",
   "metadata": {},
   "source": [
    "---\n",
    "Scatter"
   ]
  },
  {
   "cell_type": "code",
   "execution_count": 15,
   "metadata": {},
   "outputs": [
    {
     "name": "stdout",
     "output_type": "stream",
     "text": [
      "Overwriting tutorial8.py\n"
     ]
    }
   ],
   "source": [
    "%%writefile tutorial8.py\n",
    "\n",
    "from mpi4py import MPI\n",
    "import numpy as np\n",
    "\n",
    "comm = MPI.COMM_WORLD\n",
    "size = comm.Get_size()\n",
    "rank = comm.Get_rank()\n",
    "\n",
    "sendbuf = None\n",
    "\n",
    "if rank == 0:\n",
    "    sendbuf = np.empty([size, 10], dtype='int32')\n",
    "    sendbuf.T[:,:] = range(size)\n",
    "    \n",
    "print(rank, sendbuf)\n",
    "\n",
    "recvbuf = np.empty(10, dtype='int32')\n",
    "comm.Scatter(sendbuf, recvbuf, root=0)\n",
    "assert np.allclose(recvbuf, rank)\n",
    "\n",
    "print(rank, recvbuf)"
   ]
  },
  {
   "cell_type": "code",
   "execution_count": 16,
   "metadata": {},
   "outputs": [
    {
     "name": "stdout",
     "output_type": "stream",
     "text": [
      "2 None\n",
      "3 None\n",
      "0 [[0 0 0 0 0 0 0 0 0 0]\n",
      " [1 1 1 1 1 1 1 1 1 1]\n",
      " [2 2 2 2 2 2 2 2 2 2]\n",
      " [3 3 3 3 3 3 3 3 3 3]]\n",
      "0 [0 0 0 0 0 0 0 0 0 0]\n",
      "1 None\n",
      "3 [3 3 3 3 3 3 3 3 3 3]\n",
      "2 [2 2 2 2 2 2 2 2 2 2]\n",
      "1 [1 1 1 1 1 1 1 1 1 1]\n"
     ]
    }
   ],
   "source": [
    "%%bash\n",
    "mpiexec -n 4 python tutorial8.py"
   ]
  },
  {
   "cell_type": "markdown",
   "metadata": {},
   "source": [
    "---\n",
    "Gather"
   ]
  },
  {
   "cell_type": "code",
   "execution_count": 17,
   "metadata": {},
   "outputs": [
    {
     "name": "stdout",
     "output_type": "stream",
     "text": [
      "Overwriting tutorial9.py\n"
     ]
    }
   ],
   "source": [
    "%%writefile tutorial9.py\n",
    "\n",
    "from mpi4py import MPI\n",
    "import numpy as np\n",
    "\n",
    "time0 = MPI.Wtime()\n",
    "\n",
    "comm = MPI.COMM_WORLD\n",
    "size = comm.Get_size()\n",
    "rank = comm.Get_rank()\n",
    "\n",
    "sendbuf = np.zeros(10, dtype='int32') + rank\n",
    "recvbuf = None\n",
    "if rank == 0:\n",
    "    recvbuf = np.empty((size, 10), dtype='int32')\n",
    "    \n",
    "comm.Gather(sendbuf, recvbuf, root=0)\n",
    "if rank == 0:\n",
    "    for i in range(size):\n",
    "        assert np.allclose(recvbuf[i,:], i)\n",
    "        \n",
    "time1 = MPI.Wtime()\n",
    "        \n",
    "print(rank, recvbuf)\n",
    "print()"
   ]
  },
  {
   "cell_type": "code",
   "execution_count": 18,
   "metadata": {},
   "outputs": [
    {
     "name": "stdout",
     "output_type": "stream",
     "text": [
      "1 None\n",
      "\n",
      "2 None\n",
      "\n",
      "3 None\n",
      "\n",
      "0 [[0 0 0 0 0 0 0 0 0 0]\n",
      " [1 1 1 1 1 1 1 1 1 1]\n",
      " [2 2 2 2 2 2 2 2 2 2]\n",
      " [3 3 3 3 3 3 3 3 3 3]]\n",
      "\n"
     ]
    }
   ],
   "source": [
    "%%bash\n",
    "mpiexec -n 4 python tutorial9.py"
   ]
  },
  {
   "cell_type": "markdown",
   "metadata": {},
   "source": [
    "---\n",
    "Reduce"
   ]
  },
  {
   "cell_type": "code",
   "execution_count": 19,
   "metadata": {},
   "outputs": [],
   "source": [
    "import numpy as np"
   ]
  },
  {
   "cell_type": "code",
   "execution_count": 20,
   "metadata": {},
   "outputs": [],
   "source": [
    "arr = np.array([1,2], dtype='float32')"
   ]
  },
  {
   "cell_type": "code",
   "execution_count": 21,
   "metadata": {},
   "outputs": [
    {
     "data": {
      "text/plain": [
       "array([2.], dtype=float32)"
      ]
     },
     "execution_count": 21,
     "metadata": {},
     "output_type": "execute_result"
    }
   ],
   "source": [
    "np.empty(1, 'float32')"
   ]
  },
  {
   "cell_type": "code",
   "execution_count": 22,
   "metadata": {},
   "outputs": [
    {
     "name": "stdout",
     "output_type": "stream",
     "text": [
      "Overwriting tutorial10.py\n"
     ]
    }
   ],
   "source": [
    "%%writefile tutorial10.py\n",
    "\n",
    "from mpi4py import MPI\n",
    "import numpy as np\n",
    "\n",
    "comm = MPI.COMM_WORLD\n",
    "comm.Barrier()\n",
    "time0 = MPI.Wtime()\n",
    "\n",
    "rank = comm.Get_rank()\n",
    "size = comm.Get_size()\n",
    "\n",
    "n = 4\n",
    "dtype = \"float32\"\n",
    "\n",
    "if n % size != 0:\n",
    "    raise ValueError(\"The number of processes n needs to be a power of 2.\")\n",
    "\n",
    "dim1 = int(n // size)\n",
    "\n",
    "# Create random a vector A at one thread\n",
    "if rank == 0:\n",
    "    A_sendbuf = np.random.rand(n).astype(dtype)\n",
    "else:\n",
    "    A_sendbuf = None\n",
    "\n",
    "# and scatter A to all threads\n",
    "A_recvbuf = np.empty(dim1, dtype)\n",
    "comm.Scatter(A_sendbuf, A_recvbuf, root=0)\n",
    "\n",
    "print(rank, A_recvbuf)\n",
    "\n",
    "part_sum = np.sum(A_recvbuf).reshape(1)\n",
    "sum_ = np.empty(1, dtype)\n",
    "comm.Reduce(part_sum, sum_, root=0)\n",
    "\n",
    "if rank == 0:\n",
    "    print(sum_)"
   ]
  },
  {
   "cell_type": "code",
   "execution_count": 23,
   "metadata": {},
   "outputs": [
    {
     "name": "stdout",
     "output_type": "stream",
     "text": [
      "0 [0.75120217 0.97179836]\n",
      "1 [0.55815876 0.58685416]\n",
      "[2.8680134]\n"
     ]
    }
   ],
   "source": [
    "%%bash\n",
    "mpiexec -n 2 python tutorial10.py"
   ]
  },
  {
   "cell_type": "markdown",
   "metadata": {},
   "source": [
    "---\n",
    "matrix times vector"
   ]
  },
  {
   "cell_type": "code",
   "execution_count": 36,
   "metadata": {},
   "outputs": [
    {
     "name": "stdout",
     "output_type": "stream",
     "text": [
      "Overwriting tutorial11.py\n"
     ]
    }
   ],
   "source": [
    "%%writefile tutorial11.py\n",
    "\n",
    "from mpi4py import MPI\n",
    "import numpy as np\n",
    "\n",
    "comm = MPI.COMM_WORLD\n",
    "comm.Barrier()\n",
    "time0 = MPI.Wtime()\n",
    "\n",
    "rank = comm.Get_rank()\n",
    "size = comm.Get_size()\n",
    "\n",
    "if rank == 0:\n",
    "    A_sendbuf = 2 * np.eye(size, dtype='float64')\n",
    "    x = np.ones(size, dtype='float64')\n",
    "else:\n",
    "    A_sendbuf = None\n",
    "    x = np.empty(size, dtype='float64')\n",
    "    \n",
    "A_recvbuf = np.empty(size, dtype='float64')\n",
    "comm.Scatter(A_sendbuf, A_recvbuf, root=0)\n",
    "comm.Bcast(x, root=0)\n",
    "\n",
    "y_sendbuf = A_recvbuf @ x\n",
    "\n",
    "if rank == 0:\n",
    "    y_recvbuf = np.empty(size, dtype='float64')\n",
    "else:\n",
    "    y_recvbuf = None\n",
    "\n",
    "comm.Gather(y_sendbuf, y_recvbuf, root=0)\n",
    "\n",
    "comm.Barrier()\n",
    "time1 = MPI.Wtime()\n",
    "\n",
    "print(\"{})\".format(rank), \"y =\", y_recvbuf)\n",
    "print(\"{})\".format(rank), \"Finished in {time_diff} sec.\".format(time_diff = time1-time0))"
   ]
  },
  {
   "cell_type": "code",
   "execution_count": 37,
   "metadata": {},
   "outputs": [
    {
     "name": "stdout",
     "output_type": "stream",
     "text": [
      "1) y = None\n",
      "1) Finished in 0.0001584269994054921 sec.\n",
      "0) y = [2. 2.]\n",
      "0) Finished in 0.00015576599980704486 sec.\n"
     ]
    }
   ],
   "source": [
    "%%bash\n",
    "mpiexec -n 2 python tutorial11.py"
   ]
  },
  {
   "cell_type": "markdown",
   "metadata": {},
   "source": [
    "---\n",
    "Results in seconds"
   ]
  },
  {
   "cell_type": "code",
   "execution_count": 82,
   "metadata": {},
   "outputs": [],
   "source": [
    "results_laptop = {}\n",
    "results_topola = {}"
   ]
  },
  {
   "cell_type": "markdown",
   "metadata": {},
   "source": [
    "---\n",
    "# zad. 1.\n",
    "Napisać równoległa implementację operacji dodawania wektora B i wektora C Wynik zapisywany jest w wektorze A. Tzn: A[i] = B[i] + C[i], i=0....n. n=1048576. Waktory B i C należy wypełnić losowymi liczbami z zakresu [0:1]. Jako wynik wypisać A[0] i A[n-1]. Wektory mogą być w dowolny sposób rozmieszczone w pamięci. \n",
    "\n",
    "Aplikacje należy uruchomić na 1, 2, 4 procesorach (rdzeniach, wątkach) (może być na laptopie) i podać czasy wykonania."
   ]
  },
  {
   "cell_type": "code",
   "execution_count": 73,
   "metadata": {},
   "outputs": [
    {
     "name": "stdout",
     "output_type": "stream",
     "text": [
      "Overwriting zad1.py\n"
     ]
    }
   ],
   "source": [
    "%%writefile zad1.py\n",
    "from mpi4py import MPI\n",
    "import numpy as np\n",
    "np.random.seed(123)\n",
    "\n",
    "comm = MPI.COMM_WORLD\n",
    "comm.Barrier()\n",
    "time0 = MPI.Wtime()\n",
    "rank = comm.Get_rank()\n",
    "size = comm.Get_size()\n",
    "\n",
    "n = 2**24 # 2**20\n",
    "dtype = \"float64\"\n",
    "\n",
    "if n % size != 0:\n",
    "    raise ValueError(\"The number of processes n needs to be a power of 2.\")\n",
    "\n",
    "dim1 = int(n // size)\n",
    "\n",
    "# Create random vectors B, C at one thread\n",
    "if rank == 0:\n",
    "    B_sendbuf = np.random.rand(n).astype(dtype)    \n",
    "    C_sendbuf = np.random.rand(n).astype(dtype)\n",
    "else:\n",
    "    B_sendbuf = None\n",
    "    C_sendbuf = None   \n",
    "\n",
    "# Scatter B and C to all threads\n",
    "B_recvbuf = np.empty(dim1, dtype)\n",
    "C_recvbuf = np.empty(dim1, dtype)\n",
    "\n",
    "comm.Scatter(B_sendbuf, B_recvbuf, root=0)\n",
    "comm.Scatter(C_sendbuf, C_recvbuf, root=0)\n",
    "\n",
    "# Do A = B + C piecewise at each thread\n",
    "A_sendbuf = B_recvbuf + C_recvbuf\n",
    "\n",
    "# Gather pieces of A at thread 0\n",
    "if rank == 0:\n",
    "    A_recvbuf = np.empty(n, dtype)\n",
    "else:\n",
    "    A_recvbuf = None\n",
    "    \n",
    "comm.Gather(A_sendbuf, A_recvbuf, root=0)\n",
    "\n",
    "# Print first and last element of A to screen\n",
    "# Stop the timer\n",
    "if rank == 0:\n",
    "    A = A_recvbuf\n",
    "    print(\"A[0]={0}, A[-1]={1}\".format(A[0], A[1]))\n",
    "    time1 = MPI.Wtime()\n",
    "    print(\"n={size}. Finished in {time_diff} sec.\".format(size=size, time_diff=round(time1-time0, 4)))\n"
   ]
  },
  {
   "cell_type": "code",
   "execution_count": 57,
   "metadata": {},
   "outputs": [
    {
     "name": "stdout",
     "output_type": "stream",
     "text": [
      "A[0]=0.7804964262202752, A[-1]=1.4940314715135576\n",
      "n=1. Finished in 0.0452 sec.\n"
     ]
    }
   ],
   "source": [
    "%%bash\n",
    "mpiexec -n 1 python zad1.py"
   ]
  },
  {
   "cell_type": "code",
   "execution_count": 44,
   "metadata": {},
   "outputs": [
    {
     "name": "stdout",
     "output_type": "stream",
     "text": [
      "A[0]=1.4173939228057861, A[-1]=1.5077215433120728\n",
      "n=2. Finished in 0.0386 sec.\n"
     ]
    }
   ],
   "source": [
    "%%bash\n",
    "mpiexec -n 2 python zad1.py"
   ]
  },
  {
   "cell_type": "code",
   "execution_count": 45,
   "metadata": {},
   "outputs": [
    {
     "name": "stdout",
     "output_type": "stream",
     "text": [
      "A[0]=0.6971495747566223, A[-1]=0.616327166557312\n",
      "n=4. Finished in 0.0635 sec.\n"
     ]
    }
   ],
   "source": [
    "%%bash\n",
    "mpiexec -n 4 python zad1.py"
   ]
  },
  {
   "cell_type": "code",
   "execution_count": 83,
   "metadata": {},
   "outputs": [],
   "source": [
    "results_laptop['zad1'] = [0.0452, 0.0386, 0.0635]\n",
    "results_topola['zad1'] = [1.0698, 2.6106, 3.3785]"
   ]
  },
  {
   "cell_type": "markdown",
   "metadata": {},
   "source": [
    "---\n",
    "# zad. 2.\n",
    "Napisać program równoległy, który wyznaczy iloczyn skalarny wektorów A[i] i B[i] (i=1,1024). Tablice należy wypełnic liczbami losowymi z przedziału [0:1]. Wynik należy zabrać na procesorze 0 i wypisać na standardowe wyjście. Dla przypomnienia, iloczyn skalarny wektorów  to ∑A[i]*B[i]."
   ]
  },
  {
   "cell_type": "code",
   "execution_count": 74,
   "metadata": {},
   "outputs": [
    {
     "name": "stdout",
     "output_type": "stream",
     "text": [
      "Overwriting zad2.py\n"
     ]
    }
   ],
   "source": [
    "%%writefile zad2.py\n",
    "from mpi4py import MPI\n",
    "import numpy as np\n",
    "np.random.seed(123)\n",
    "\n",
    "comm = MPI.COMM_WORLD\n",
    "comm.Barrier()\n",
    "time0 = MPI.Wtime()\n",
    "size = comm.Get_size()\n",
    "rank = comm.Get_rank()\n",
    "\n",
    "n = 2**24 # 2**10\n",
    "dtype = 'float64'\n",
    "\n",
    "if n % size != 0:\n",
    "    raise ValueError()\n",
    "\n",
    "dim1 = int(n // size)\n",
    "\n",
    "# Initialize random vectors A and B at one thread\n",
    "# and scatter them to all threads\n",
    "if rank == 0:\n",
    "    A_sendbuf = np.random.rand(n).astype(dtype)\n",
    "    B_sendbuf = np.random.rand(n).astype(dtype)\n",
    "else:\n",
    "    A_sendbuf = None\n",
    "    B_sendbuf = None\n",
    "\n",
    "A_recvbuf = np.empty(dim1, dtype)\n",
    "B_recvbuf = np.empty(dim1, dtype)\n",
    "\n",
    "comm.Scatter(A_sendbuf, A_recvbuf, root=0)\n",
    "comm.Scatter(B_sendbuf, B_recvbuf, root=0)\n",
    "\n",
    "# Compute part of the sum in the definition of the dot product\n",
    "part_dotproduct = np.sum(A_recvbuf * B_recvbuf).reshape(1)\n",
    "\n",
    "# Reduce the parts back together using addition at thread 0\n",
    "dotproduct = np.empty(1, dtype)\n",
    "comm.Reduce(part_dotproduct, dotproduct, op=MPI.SUM, root=0)\n",
    "\n",
    "# Print the result to screen\n",
    "# Stop the timer\n",
    "if rank == 0:\n",
    "    print(\"The dot product equals {}\".format(dotproduct[0]))\n",
    "    time1 = MPI.Wtime()\n",
    "    print(\"n={size}. Finished in {time_diff} sec.\".format(size=size, time_diff=round(time1-time0, 4)))"
   ]
  },
  {
   "cell_type": "code",
   "execution_count": 72,
   "metadata": {},
   "outputs": [
    {
     "name": "stdout",
     "output_type": "stream",
     "text": [
      "The dot product equals 4194315.041135617\n",
      "n=1. Finished in 0.7109 sec.\n"
     ]
    }
   ],
   "source": [
    "%%bash\n",
    "mpiexec -n 1 python zad2.py"
   ]
  },
  {
   "cell_type": "code",
   "execution_count": 62,
   "metadata": {},
   "outputs": [
    {
     "name": "stdout",
     "output_type": "stream",
     "text": [
      "The dot product equals 4195203.606306288\n",
      "n=2. Finished in 0.7335 sec.\n"
     ]
    }
   ],
   "source": [
    "%%bash\n",
    "mpiexec -n 2 python zad2.py"
   ]
  },
  {
   "cell_type": "code",
   "execution_count": 63,
   "metadata": {},
   "outputs": [
    {
     "name": "stdout",
     "output_type": "stream",
     "text": [
      "The dot product equals 4194392.604360986\n",
      "n=4. Finished in 1.0234 sec.\n"
     ]
    }
   ],
   "source": [
    "%%bash\n",
    "mpiexec -n 4 python zad2.py"
   ]
  },
  {
   "cell_type": "code",
   "execution_count": 84,
   "metadata": {},
   "outputs": [],
   "source": [
    "results_laptop['zad2'] = [0.7109, 0.7335, 1.0234]\n",
    "results_topola['zad2'] = [1.0069, 2.0017, 2.5076]"
   ]
  },
  {
   "cell_type": "markdown",
   "metadata": {},
   "source": [
    "## zad. 3.\n",
    "\n",
    "Napisać program równoległy, który wczyta z pliku in.txt n liczb całkowitych z zakresu [0:10]  a nastepnie w sposób równoległy wyznaczy histogram, tzn. wyznaczy wektor B[i] ( i=0,100) w którego kolejnych komórkach będzie znajdowała się ilość liczb o okreslonej wartości B[0] ilość 0, B[1] ilość 1, B[2] ilość 2 itd. Tablicę B[i] należy zabrać na procesorze 0 i wypisać na standardowe wyjście.\n",
    "\n",
    "Plik wejściowy powinien zawierać co najmniej 1024 liczb."
   ]
  },
  {
   "cell_type": "code",
   "execution_count": 75,
   "metadata": {},
   "outputs": [],
   "source": [
    "# Create the input file in.txt\n",
    "import numpy as np\n",
    "n = 2**22 # 2**10\n",
    "m = 10\n",
    "\n",
    "with open(\"in.txt\", \"w\") as file:\n",
    "    for _ in range(n):\n",
    "        file.write(str(np.random.randint(0, m + 1)) + '\\n')"
   ]
  },
  {
   "cell_type": "code",
   "execution_count": 78,
   "metadata": {},
   "outputs": [
    {
     "name": "stdout",
     "output_type": "stream",
     "text": [
      "Overwriting zad3.py\n"
     ]
    }
   ],
   "source": [
    "%%writefile zad3.py\n",
    "from mpi4py import MPI\n",
    "import numpy as np\n",
    "\n",
    "comm = MPI.COMM_WORLD\n",
    "comm.Barrier()\n",
    "time0 = MPI.Wtime()\n",
    "size = comm.Get_size()\n",
    "rank = comm.Get_rank()\n",
    "\n",
    "n = 2**22\n",
    "m = 10\n",
    "dtype1 = 'int8'\n",
    "dtype2 = 'int32'\n",
    "\n",
    "if n % size != 0:\n",
    "    raise ValueError()\n",
    "\n",
    "dim1 = int(n // size)\n",
    "\n",
    "# Read the file into memory at thread 0\n",
    "# And scatter the resulting vector A\n",
    "if rank == 0:\n",
    "    A = []\n",
    "    with open(\"in.txt\", \"r\") as file:\n",
    "        for line in file:\n",
    "            A.append(int(line.strip()))\n",
    "    A_sendbuf = np.array(A, dtype1)\n",
    "else:\n",
    "    A_sendbuf = None\n",
    "\n",
    "A_recvbuf = np.empty(dim1, dtype1)\n",
    "comm.Scatter(A_sendbuf, A_recvbuf, root=0)\n",
    "\n",
    "# Compute the partial histogram at each thread\n",
    "B_sendbuf = np.zeros(m + 1, dtype2)\n",
    "for num in A_recvbuf:\n",
    "    B_sendbuf[num] += 1\n",
    "\n",
    "# Reduce the histograms\n",
    "B_recvbuf = np.empty(m + 1, dtype2)\n",
    "comm.Reduce(B_sendbuf, B_recvbuf, op=MPI.SUM, root=0)\n",
    "\n",
    "# Print the result to screen\n",
    "# Stop the timer\n",
    "if rank == 0:\n",
    "    print(B_recvbuf)\n",
    "    time1 = MPI.Wtime()\n",
    "    print(\"n={size}. Finished in {time_diff} sec.\".format(size=size, time_diff=round(time1-time0, 4)))"
   ]
  },
  {
   "cell_type": "code",
   "execution_count": 79,
   "metadata": {},
   "outputs": [
    {
     "name": "stdout",
     "output_type": "stream",
     "text": [
      "[380615 381190 381513 381813 382413 379665 381785 381706 381757 380555\n",
      " 381292]\n",
      "n=1. Finished in 12.6405 sec.\n"
     ]
    }
   ],
   "source": [
    "%%bash\n",
    "mpiexec -n 1 python zad3.py"
   ]
  },
  {
   "cell_type": "code",
   "execution_count": 80,
   "metadata": {},
   "outputs": [
    {
     "name": "stdout",
     "output_type": "stream",
     "text": [
      "[380615 381190 381513 381813 382413 379665 381785 381706 381757 380555\n",
      " 381292]\n",
      "n=2. Finished in 9.298 sec.\n"
     ]
    }
   ],
   "source": [
    "%%bash\n",
    "mpiexec -n 2 python zad3.py"
   ]
  },
  {
   "cell_type": "code",
   "execution_count": 85,
   "metadata": {},
   "outputs": [
    {
     "name": "stdout",
     "output_type": "stream",
     "text": [
      "[380615 381190 381513 381813 382413 379665 381785 381706 381757 380555\n",
      " 381292]\n",
      "n=4. Finished in 11.0754 sec.\n"
     ]
    }
   ],
   "source": [
    "%%bash\n",
    "mpiexec -n 4 python zad3.py"
   ]
  },
  {
   "cell_type": "code",
   "execution_count": 70,
   "metadata": {},
   "outputs": [
    {
     "data": {
      "text/plain": [
       "16777216"
      ]
     },
     "execution_count": 70,
     "metadata": {},
     "output_type": "execute_result"
    }
   ],
   "source": [
    "results_laptop['zad3'] = [12.6405, 9.298, 11.0754]\n",
    "results_topola['zad3'] = [40.4533, 23.9706, 16.2367]"
   ]
  },
  {
   "cell_type": "code",
   "execution_count": null,
   "metadata": {},
   "outputs": [],
   "source": []
  }
 ],
 "metadata": {
  "kernelspec": {
   "display_name": "Python 3",
   "language": "python",
   "name": "python3"
  },
  "language_info": {
   "codemirror_mode": {
    "name": "ipython",
    "version": 3
   },
   "file_extension": ".py",
   "mimetype": "text/x-python",
   "name": "python",
   "nbconvert_exporter": "python",
   "pygments_lexer": "ipython3",
   "version": "3.5.2"
  }
 },
 "nbformat": 4,
 "nbformat_minor": 2
}
