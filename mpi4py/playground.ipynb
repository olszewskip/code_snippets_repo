{
 "cells": [
  {
   "cell_type": "code",
   "execution_count": 13,
   "metadata": {},
   "outputs": [
    {
     "name": "stdout",
     "output_type": "stream",
     "text": [
      "Overwriting tutorial1.py\n"
     ]
    }
   ],
   "source": [
    "%%writefile tutorial1.py\n",
    "from mpi4py import MPI\n",
    "\n",
    "comm = MPI.COMM_WORLD\n",
    "rank = comm.Get_rank()\n",
    "\n",
    "if rank == 0:\n",
    "    data = {'a': 7, 'b': 3.14}\n",
    "    comm.send(data, dest=1, tag=11) # tag may be omitted\n",
    "elif rank == 1:\n",
    "    data = comm.recv(source=0, tag=11)\n",
    "    print(rank, data)\n"
   ]
  },
  {
   "cell_type": "code",
   "execution_count": 14,
   "metadata": {},
   "outputs": [
    {
     "name": "stdout",
     "output_type": "stream",
     "text": [
      "1 {'a': 7, 'b': 3.14}\n"
     ]
    }
   ],
   "source": [
    "%%bash\n",
    "mpirun -n 4 python tutorial1.py"
   ]
  },
  {
   "cell_type": "markdown",
   "metadata": {},
   "source": [
    "---"
   ]
  },
  {
   "cell_type": "code",
   "execution_count": null,
   "metadata": {},
   "outputs": [],
   "source": [
    "%%writefile tutorial2.py\n",
    "from mpi4py import MPI\n",
    "\n",
    "comm = MPI.COMM_WORLD\n",
    "rank = comm.Get_rank()\n",
    "\n",
    "if rank == 0:\n",
    "    data = {'a': 7, 'b': 3.14}\n",
    "    req = comm.isend(data, dest=1, tag=11)\n",
    "    req.wait()\n",
    "elif rank == 1:\n",
    "    req = comm.irecv(source=0, tag=11)\n",
    "    data = req.wait()\n",
    "    print(rank, data)"
   ]
  },
  {
   "cell_type": "code",
   "execution_count": 12,
   "metadata": {},
   "outputs": [
    {
     "name": "stdout",
     "output_type": "stream",
     "text": [
      "1 {'a': 7, 'b': 3.14}\n"
     ]
    }
   ],
   "source": [
    "%%bash\n",
    "mpirun -n 4 python tutorial2.py"
   ]
  },
  {
   "cell_type": "markdown",
   "metadata": {},
   "source": [
    "---"
   ]
  },
  {
   "cell_type": "code",
   "execution_count": 25,
   "metadata": {},
   "outputs": [
    {
     "name": "stdout",
     "output_type": "stream",
     "text": [
      "Overwriting tutorial3.py\n"
     ]
    }
   ],
   "source": [
    "%%writefile tutorial3.py\n",
    "from mpi4py import MPI\n",
    "import numpy\n",
    "\n",
    "comm = MPI.COMM_WORLD\n",
    "rank = comm.Get_rank()\n",
    "\n",
    "# passing MPI datatypes explicitly\n",
    "if rank == 0:\n",
    "    data = numpy.arange(20, dtype='i')\n",
    "    print('a', rank, data, data.dtype)\n",
    "    comm.Send([data, MPI.INT], dest=1, tag=77)\n",
    "elif rank == 1:\n",
    "    data = numpy.empty(20, dtype='i')\n",
    "    comm.Recv([data, MPI.INT], source=0, tag=77)\n",
    "    print('b', rank, data, data.dtype)\n",
    "    \n",
    "\n",
    "# automatic MPI datatype discovery\n",
    "if rank == 0:\n",
    "    data = numpy.arange(10, dtype=numpy.float64)\n",
    "    print('a', rank, data, data.dtype)\n",
    "    comm.Send(data, dest=1, tag=13)\n",
    "elif rank == 1:\n",
    "    data = numpy.empty(10, dtype=numpy.float64)\n",
    "    comm.Recv(data, source=0, tag=13)\n",
    "    print('b', rank, data, data.dtype)"
   ]
  },
  {
   "cell_type": "code",
   "execution_count": 26,
   "metadata": {},
   "outputs": [
    {
     "name": "stdout",
     "output_type": "stream",
     "text": [
      "a 0 [ 0  1  2  3  4  5  6  7  8  9 10 11 12 13 14 15 16 17 18 19] int32\n",
      "a 0 [0. 1. 2. 3. 4. 5. 6. 7. 8. 9.] float64\n",
      "b 1 [ 0  1  2  3  4  5  6  7  8  9 10 11 12 13 14 15 16 17 18 19] int32\n",
      "b 1 [0. 1. 2. 3. 4. 5. 6. 7. 8. 9.] float64\n"
     ]
    }
   ],
   "source": [
    "%%bash\n",
    "mpirun -n 4 python tutorial3.py"
   ]
  },
  {
   "cell_type": "markdown",
   "metadata": {},
   "source": [
    "---\n",
    "bcast"
   ]
  },
  {
   "cell_type": "code",
   "execution_count": 5,
   "metadata": {},
   "outputs": [
    {
     "name": "stdout",
     "output_type": "stream",
     "text": [
      "Overwriting tutorial4.py\n"
     ]
    }
   ],
   "source": [
    "%%writefile tutorial4.py\n",
    "from mpi4py import MPI\n",
    "\n",
    "comm = MPI.COMM_WORLD\n",
    "rank = comm.Get_rank()\n",
    "\n",
    "if rank == 0:\n",
    "    data = {'key1' : [7, 2.72, 2+3j],\n",
    "            'key2' : ( 'abc', 'xyz')}\n",
    "else:\n",
    "    data = None\n",
    "    \n",
    "data = comm.bcast(data, root=0)\n",
    "\n",
    "print(rank, data)"
   ]
  },
  {
   "cell_type": "code",
   "execution_count": 4,
   "metadata": {},
   "outputs": [
    {
     "name": "stdout",
     "output_type": "stream",
     "text": [
      "0 {'key1': [7, 2.72, (2+3j)], 'key2': ('abc', 'xyz')}\n",
      "2 {'key1': [7, 2.72, (2+3j)], 'key2': ('abc', 'xyz')}\n",
      "1 {'key1': [7, 2.72, (2+3j)], 'key2': ('abc', 'xyz')}\n",
      "3 {'key1': [7, 2.72, (2+3j)], 'key2': ('abc', 'xyz')}\n"
     ]
    }
   ],
   "source": [
    "%%bash\n",
    "mpirun -n 4 python tutorial4.py"
   ]
  },
  {
   "cell_type": "markdown",
   "metadata": {},
   "source": [
    "---\n",
    "scatter"
   ]
  },
  {
   "cell_type": "code",
   "execution_count": 30,
   "metadata": {},
   "outputs": [
    {
     "name": "stdout",
     "output_type": "stream",
     "text": [
      "Overwriting tutorial5.py\n"
     ]
    }
   ],
   "source": [
    "%%writefile tutorial5.py\n",
    "from mpi4py import MPI\n",
    "\n",
    "comm = MPI.COMM_WORLD\n",
    "size = comm.Get_size()\n",
    "rank = comm.Get_rank()\n",
    "\n",
    "if rank == 0:\n",
    "    data = [(i+1)**2 for i in range(size)]\n",
    "else:\n",
    "    data = None\n",
    "data = comm.scatter(data, root=0)\n",
    "assert data == (rank+1)**2"
   ]
  },
  {
   "cell_type": "code",
   "execution_count": 31,
   "metadata": {},
   "outputs": [],
   "source": [
    "%%bash\n",
    "mpirun -n 4 python tutorial5.py"
   ]
  },
  {
   "cell_type": "markdown",
   "metadata": {},
   "source": [
    "---\n",
    "gather"
   ]
  },
  {
   "cell_type": "code",
   "execution_count": 34,
   "metadata": {},
   "outputs": [
    {
     "name": "stdout",
     "output_type": "stream",
     "text": [
      "Overwriting tutorial6.py\n"
     ]
    }
   ],
   "source": [
    "%%writefile tutorial6.py\n",
    "from mpi4py import MPI\n",
    "\n",
    "comm = MPI.COMM_WORLD\n",
    "size = comm.Get_size()\n",
    "rank = comm.Get_rank()\n",
    "\n",
    "data = (rank+1)**2\n",
    "data = comm.gather(data, root=0)\n",
    "if rank == 0:\n",
    "    for i in range(size):\n",
    "        assert data[i] == (i+1)**2\n",
    "else:\n",
    "    assert data is None\n",
    "    \n",
    "print(rank, data, type(data))"
   ]
  },
  {
   "cell_type": "code",
   "execution_count": 35,
   "metadata": {},
   "outputs": [
    {
     "name": "stdout",
     "output_type": "stream",
     "text": [
      "2 None <class 'NoneType'>\n",
      "3 None <class 'NoneType'>\n",
      "1 None <class 'NoneType'>\n",
      "0 [1, 4, 9, 16] <class 'list'>\n"
     ]
    }
   ],
   "source": [
    "%%bash\n",
    "mpirun -n 4 python tutorial6.py"
   ]
  },
  {
   "cell_type": "markdown",
   "metadata": {},
   "source": [
    "---\n",
    "Bcast"
   ]
  },
  {
   "cell_type": "code",
   "execution_count": 50,
   "metadata": {},
   "outputs": [
    {
     "name": "stdout",
     "output_type": "stream",
     "text": [
      "Overwriting tutorial7.py\n"
     ]
    }
   ],
   "source": [
    "%%writefile tutorial7.py\n",
    "from mpi4py import MPI\n",
    "import numpy as np\n",
    "\n",
    "comm = MPI.COMM_WORLD\n",
    "rank = comm.Get_rank()\n",
    "\n",
    "if rank == 0:\n",
    "    data = np.arange(10, dtype='int64')\n",
    "else:\n",
    "    data = np.empty(10, dtype='int64')\n",
    "    \n",
    "# print('a', rank, data)\n",
    "    \n",
    "comm.Bcast(data, root=0)\n",
    "for i in range(10):\n",
    "    assert data[i] == i\n",
    "\n",
    "print('b', rank, data, data.dtype)"
   ]
  },
  {
   "cell_type": "code",
   "execution_count": 51,
   "metadata": {},
   "outputs": [
    {
     "name": "stdout",
     "output_type": "stream",
     "text": [
      "b 0 [0 1 2 3 4 5 6 7 8 9] int64\n",
      "b 1 [0 1 2 3 4 5 6 7 8 9] int64\n",
      "b 2 [0 1 2 3 4 5 6 7 8 9] int64\n",
      "b 3 [0 1 2 3 4 5 6 7 8 9] int64\n"
     ]
    }
   ],
   "source": [
    "%%bash\n",
    "mpiexec -n 4 python tutorial7.py"
   ]
  },
  {
   "cell_type": "markdown",
   "metadata": {},
   "source": [
    "---\n",
    "Scatter"
   ]
  },
  {
   "cell_type": "code",
   "execution_count": 63,
   "metadata": {},
   "outputs": [
    {
     "name": "stdout",
     "output_type": "stream",
     "text": [
      "Overwriting tutorial8.py\n"
     ]
    }
   ],
   "source": [
    "%%writefile tutorial8.py\n",
    "\n",
    "from mpi4py import MPI\n",
    "import numpy as np\n",
    "\n",
    "comm = MPI.COMM_WORLD\n",
    "size = comm.Get_size()\n",
    "rank = comm.Get_rank()\n",
    "\n",
    "sendbuf = None\n",
    "\n",
    "if rank == 0:\n",
    "    sendbuf = np.empty([size, 10], dtype='int32')\n",
    "    sendbuf.T[:,:] = range(size)\n",
    "    \n",
    "print(rank, sendbuf)\n",
    "\n",
    "recvbuf = np.empty(10, dtype='int32')\n",
    "comm.Scatter(sendbuf, recvbuf, root=0)\n",
    "assert np.allclose(recvbuf, rank)\n",
    "\n",
    "print(rank, recvbuf)"
   ]
  },
  {
   "cell_type": "code",
   "execution_count": 64,
   "metadata": {},
   "outputs": [
    {
     "name": "stdout",
     "output_type": "stream",
     "text": [
      "1 None\n",
      "2 None\n",
      "0 [[0 0 0 0 0 0 0 0 0 0]\n",
      " [1 1 1 1 1 1 1 1 1 1]\n",
      " [2 2 2 2 2 2 2 2 2 2]\n",
      " [3 3 3 3 3 3 3 3 3 3]]\n",
      "0 [0 0 0 0 0 0 0 0 0 0]\n",
      "2 [2 2 2 2 2 2 2 2 2 2]\n",
      "1 [1 1 1 1 1 1 1 1 1 1]\n",
      "3 None\n",
      "3 [3 3 3 3 3 3 3 3 3 3]\n"
     ]
    }
   ],
   "source": [
    "%%bash\n",
    "mpiexec -n 4 python tutorial8.py"
   ]
  },
  {
   "cell_type": "markdown",
   "metadata": {},
   "source": [
    "---\n",
    "Gather"
   ]
  },
  {
   "cell_type": "code",
   "execution_count": 88,
   "metadata": {},
   "outputs": [
    {
     "name": "stdout",
     "output_type": "stream",
     "text": [
      "Overwriting tutorial9.py\n"
     ]
    }
   ],
   "source": [
    "%%writefile tutorial9.py\n",
    "\n",
    "from mpi4py import MPI\n",
    "import numpy as np\n",
    "\n",
    "time0 = MPI.Wtime()\n",
    "\n",
    "comm = MPI.COMM_WORLD\n",
    "size = comm.Get_size()\n",
    "rank = comm.Get_rank()\n",
    "\n",
    "sendbuf = np.zeros(10, dtype='int32') + rank\n",
    "recvbuf = None\n",
    "if rank == 0:\n",
    "    recvbuf = np.empty((size, 10), dtype='int32')\n",
    "    \n",
    "comm.Gather(sendbuf, recvbuf, root=0)\n",
    "if rank == 0:\n",
    "    for i in range(size):\n",
    "        assert np.allclose(recvbuf[i,:], i)\n",
    "        \n",
    "time1 = MPI.Wtime()\n",
    "        \n",
    "print(rank, recvbuf)\n",
    "print()"
   ]
  },
  {
   "cell_type": "code",
   "execution_count": 89,
   "metadata": {},
   "outputs": [
    {
     "name": "stdout",
     "output_type": "stream",
     "text": [
      "2 None\n",
      "3 None\n",
      "1 None\n",
      "0 [[0 0 0 0 0 0 0 0 0 0]\n",
      " [1 1 1 1 1 1 1 1 1 1]\n",
      " [2 2 2 2 2 2 2 2 2 2]\n",
      " [3 3 3 3 3 3 3 3 3 3]]\n"
     ]
    }
   ],
   "source": [
    "%%bash\n",
    "mpiexec -n 4 python tutorial9.py"
   ]
  },
  {
   "cell_type": "markdown",
   "metadata": {},
   "source": [
    "---\n",
    "Reduce"
   ]
  },
  {
   "cell_type": "code",
   "execution_count": 4,
   "metadata": {},
   "outputs": [],
   "source": [
    "import numpy as np"
   ]
  },
  {
   "cell_type": "code",
   "execution_count": 10,
   "metadata": {},
   "outputs": [],
   "source": [
    "arr = np.array([1,2], dtype='float32')"
   ]
  },
  {
   "cell_type": "code",
   "execution_count": 17,
   "metadata": {},
   "outputs": [
    {
     "data": {
      "text/plain": [
       "array([3.], dtype=float32)"
      ]
     },
     "execution_count": 17,
     "metadata": {},
     "output_type": "execute_result"
    }
   ],
   "source": [
    "np.empty(1, 'float32')"
   ]
  },
  {
   "cell_type": "code",
   "execution_count": 22,
   "metadata": {},
   "outputs": [
    {
     "name": "stdout",
     "output_type": "stream",
     "text": [
      "Overwriting tutorial10.py\n"
     ]
    }
   ],
   "source": [
    "%%writefile tutorial10.py\n",
    "\n",
    "from mpi4py import MPI\n",
    "import numpy as np\n",
    "\n",
    "comm = MPI.COMM_WORLD\n",
    "comm.Barrier()\n",
    "time0 = MPI.Wtime()\n",
    "\n",
    "rank = comm.Get_rank()\n",
    "size = comm.Get_size()\n",
    "\n",
    "n = 4\n",
    "dtype = \"float32\"\n",
    "\n",
    "if n % size != 0:\n",
    "    raise ValueError(\"The number of processes n needs to be a power of 2.\")\n",
    "\n",
    "dim1 = int(n // size)\n",
    "\n",
    "# Create random a vector A at one thread\n",
    "if rank == 0:\n",
    "    A_sendbuf = np.random.rand(n).astype(dtype)\n",
    "else:\n",
    "    A_sendbuf = None\n",
    "\n",
    "# and scatter A to all threads\n",
    "A_recvbuf = np.empty(dim1, dtype)\n",
    "comm.Scatter(A_sendbuf, A_recvbuf, root=0)\n",
    "\n",
    "print(rank, A_recvbuf)\n",
    "\n",
    "part_sum = np.sum(A_recvbuf).reshape(1)\n",
    "sum_ = np.empty(1, dtype)\n",
    "comm.Reduce(part_sum, sum_, root=0)\n",
    "\n",
    "if rank == 0:\n",
    "    print(sum_)"
   ]
  },
  {
   "cell_type": "code",
   "execution_count": 23,
   "metadata": {},
   "outputs": [
    {
     "name": "stdout",
     "output_type": "stream",
     "text": [
      "0 [0.05181958 0.09680613]\n",
      "1 [0.6857301  0.11715732]\n",
      "[0.9515132]\n"
     ]
    }
   ],
   "source": [
    "%%bash\n",
    "mpiexec -n 2 python tutorial10.py"
   ]
  },
  {
   "cell_type": "markdown",
   "metadata": {},
   "source": [
    "---\n",
    "matrix times vector"
   ]
  },
  {
   "cell_type": "code",
   "execution_count": 25,
   "metadata": {},
   "outputs": [
    {
     "name": "stdout",
     "output_type": "stream",
     "text": [
      "Overwriting tutorial10.py\n"
     ]
    }
   ],
   "source": [
    "%%writefile tutorial11.py\n",
    "\n",
    "from mpi4py import MPI\n",
    "import numpy as np\n",
    "\n",
    "comm = MPI.COMM_WORLD\n",
    "comm.Barrier()\n",
    "time0 = MPI.Wtime()\n",
    "\n",
    "rank = comm.Get_rank()\n",
    "size = comm.Get_size()\n",
    "\n",
    "if rank == 0:\n",
    "    A_sendbuf = 2 * np.eye(size, dtype='float64')\n",
    "    x = np.ones(size, dtype='float64')\n",
    "else:\n",
    "    A_sendbuf = None\n",
    "    x = np.empty(size, dtype='float64')\n",
    "    \n",
    "A_recvbuf = np.empty(size, dtype='float64')\n",
    "comm.Scatter(A_sendbuf, A_recvbuf, root=0)\n",
    "comm.Bcast(x, root=0)\n",
    "\n",
    "y_sendbuf = A_recvbuf @ x\n",
    "\n",
    "if rank == 0:\n",
    "    y_recvbuf = np.empty(size, dtype='float64')\n",
    "else:\n",
    "    y_recvbuf = None\n",
    "\n",
    "comm.Gather(y_sendbuf, y_recvbuf, root=0)\n",
    "\n",
    "comm.Barrier()\n",
    "time1 = MPI.Wtime()\n",
    "\n",
    "print(f\"{rank})\", \"y =\", y_recvbuf)\n",
    "print(f\"{rank})\", f\"Finished in {time1 - time0} sec.\")"
   ]
  },
  {
   "cell_type": "code",
   "execution_count": 26,
   "metadata": {},
   "outputs": [
    {
     "name": "stdout",
     "output_type": "stream",
     "text": [
      "1) y = None\n",
      "1) Finished in 0.00010699099993871641 sec.\n",
      "0) y = [2. 2.]\n",
      "0) Finished in 0.00010391599994363787 sec.\n"
     ]
    }
   ],
   "source": [
    "%%bash\n",
    "mpiexec -n 2 python tutorial11.py"
   ]
  },
  {
   "cell_type": "markdown",
   "metadata": {},
   "source": [
    "---\n",
    "# zad. 1.\n",
    "Napisać równoległa implementację operacji dodawania wektora B i wektora C Wynik zapisywany jest w wektorze A. Tzn: A[i] = B[i] + C[i], i=0....n. n=1048576. Waktory B i C należy wypełnić losowymi liczbami z zakresu [0:1]. Jako wynik wypisać A[0] i A[n-1]. Wektory mogą być w dowolny sposób rozmieszczone w pamięci. \n",
    "\n",
    "Aplikacje należy uruchomić na 1, 2, 4 procesorach (rdzeniach, wątkach) (może być na laptopie) i podać czasy wykonania."
   ]
  },
  {
   "cell_type": "code",
   "execution_count": 44,
   "metadata": {},
   "outputs": [
    {
     "name": "stdout",
     "output_type": "stream",
     "text": [
      "Overwriting zad1.py\n"
     ]
    }
   ],
   "source": [
    "%%writefile zad1.py\n",
    "from mpi4py import MPI\n",
    "import numpy as np\n",
    "\n",
    "comm = MPI.COMM_WORLD\n",
    "comm.Barrier()\n",
    "time0 = MPI.Wtime()\n",
    "rank = comm.Get_rank()\n",
    "size = comm.Get_size()\n",
    "\n",
    "n = 1048576 # 2**20\n",
    "dtype = \"float32\"\n",
    "\n",
    "if n % size != 0:\n",
    "    raise ValueError(\"The number of processes n needs to be a power of 2.\")\n",
    "\n",
    "dim1 = int(n // size)\n",
    "\n",
    "# Create random vectors B, C at one thread\n",
    "if rank == 0:\n",
    "    B_sendbuf = np.random.rand(n).astype(dtype)    \n",
    "    C_sendbuf = np.random.rand(n).astype(dtype)\n",
    "else:\n",
    "    B_sendbuf = None\n",
    "    C_sendbuf = None\n",
    "\n",
    "# print(f\"{rank}) B_sendbuf={B_sendbuf}\")\n",
    "# print(f\"{rank}) C_sendbuf={C_sendbuf}\")    \n",
    "\n",
    "# Scatter B and C to all threads\n",
    "B_recvbuf = np.empty(dim1, dtype)\n",
    "C_recvbuf = np.empty(dim1, dtype)\n",
    "\n",
    "comm.Scatter(B_sendbuf, B_recvbuf, root=0)\n",
    "comm.Scatter(C_sendbuf, C_recvbuf, root=0)\n",
    "\n",
    "# print(f\"{rank}) B_recvbuf={B_recvbuf}\")\n",
    "# print(f\"{rank}) C_recvbuf={C_recvbuf}\")\n",
    "\n",
    "# Do A = B + C piecewise at each thread\n",
    "A_sendbuf = B_recvbuf + C_recvbuf\n",
    "\n",
    "# print(f\"{rank}) {A_sendbuf}\")\n",
    "\n",
    "# Gather pieces of A at thread 0\n",
    "if rank == 0:\n",
    "    A_recvbuf = np.empty(n, dtype)\n",
    "else:\n",
    "    A_recvbuf = None\n",
    "    \n",
    "comm.Gather(A_sendbuf, A_recvbuf, root=0)\n",
    "\n",
    "# Print first and last element of A to screen\n",
    "# Stop the timer\n",
    "if rank == 0:\n",
    "    A = A_recvbuf\n",
    "    print(f\"A[0]={A[0]}, A[-1]={A[-1]}\")\n",
    "    time1 = MPI.Wtime()\n",
    "    print(f\"n={size}. Finished in {round(time1-time0, 4)} sec.\")\n"
   ]
  },
  {
   "cell_type": "code",
   "execution_count": 40,
   "metadata": {},
   "outputs": [
    {
     "name": "stdout",
     "output_type": "stream",
     "text": [
      "A[0]=1.3715472221374512, A[-1]=0.8749533891677856\n",
      "n=1. Finished in 0.0382 sec.\n"
     ]
    }
   ],
   "source": [
    "%%bash\n",
    "mpiexec -n 1 python zad1.py"
   ]
  },
  {
   "cell_type": "code",
   "execution_count": 41,
   "metadata": {},
   "outputs": [
    {
     "name": "stdout",
     "output_type": "stream",
     "text": [
      "A[0]=0.7797716856002808, A[-1]=0.9926798939704895\n",
      "n=2. Finished in 0.037 sec.\n"
     ]
    }
   ],
   "source": [
    "%%bash\n",
    "mpiexec -n 2 python zad1.py"
   ]
  },
  {
   "cell_type": "code",
   "execution_count": 42,
   "metadata": {},
   "outputs": [
    {
     "name": "stdout",
     "output_type": "stream",
     "text": [
      "A[0]=1.4049322605133057, A[-1]=0.8619338274002075\n",
      "n=4. Finished in 0.0508 sec.\n"
     ]
    }
   ],
   "source": [
    "%%bash\n",
    "mpiexec -n 4 python zad1.py"
   ]
  },
  {
   "cell_type": "markdown",
   "metadata": {},
   "source": [
    "---\n",
    "# zad. 2.\n",
    "Napisać program równoległy, który wyznaczy iloczyn skalarny wektorów A[i] i B[i] (i=1,1024). Tablice należy wypełnic liczbami losowymi z przedziału [0:1]. Wynik należy zabrać na procesorze 0 i wypisać na standardowe wyjście. Dla przypomnienia, iloczyn skalarny wektorów  to ∑A[i]*B[i]."
   ]
  },
  {
   "cell_type": "code",
   "execution_count": 26,
   "metadata": {},
   "outputs": [
    {
     "name": "stdout",
     "output_type": "stream",
     "text": [
      "Overwriting zad2.py\n"
     ]
    }
   ],
   "source": [
    "%%writefile zad2.py\n",
    "from mpi4py import MPI\n",
    "import numpy as np\n",
    "\n",
    "comm = MPI.COMM_WORLD\n",
    "comm.Barrier()\n",
    "time0 = MPI.Wtime()\n",
    "size = comm.Get_size()\n",
    "rank = comm.Get_rank()\n",
    "\n",
    "n = 1048576\n",
    "dtype = 'float32'\n",
    "\n",
    "if n % size != 0:\n",
    "    raise ValueError()\n",
    "\n",
    "dim1 = int(n // size)\n",
    "\n",
    "if rank == 0:\n",
    "    A_sendbuf = np.random.rand(n).astype(dtype)\n",
    "    B_sendbuf = np.random.rand(n).astype(dtype)\n",
    "else:\n",
    "    A_sendbuf = None\n",
    "    B_sendbuf = None\n",
    "\n",
    "A_recvbuf = np.empty(dim1, dtype)\n",
    "B_recvbuf = np.empty(dim1, dtype)\n",
    "\n",
    "comm.Scatter(A_sendbuf, A_recvbuf, root=0)\n",
    "comm.Scatter(B_sendbuf, B_recvbuf, root=0)\n",
    "\n",
    "part_sum = np.sum(A_recvbuf * B_recvbuf).reshape(1)\n",
    "sum_ = np.empty(1, dtype)\n",
    "comm.Reduce(part_sum, sum_, root=0)\n",
    "\n",
    "if rank == 0:\n",
    "    print(f\"The dot product equals {sum_}\")\n",
    "    time1 = MPI.Wtime()\n",
    "    print(f\"n={size}. Finished in {round(time1-time0, 4)} sec.\")"
   ]
  },
  {
   "cell_type": "code",
   "execution_count": 27,
   "metadata": {},
   "outputs": [
    {
     "name": "stdout",
     "output_type": "stream",
     "text": [
      "The dot product equals [262208.94]\n",
      "n=2. Finished in 0.059 sec.\n"
     ]
    }
   ],
   "source": [
    "%%bash\n",
    "mpiexec -n 2 python zad2.py"
   ]
  },
  {
   "cell_type": "code",
   "execution_count": null,
   "metadata": {},
   "outputs": [],
   "source": []
  },
  {
   "cell_type": "markdown",
   "metadata": {},
   "source": [
    "---\n",
    "---\n",
    "old"
   ]
  },
  {
   "cell_type": "code",
   "execution_count": 73,
   "metadata": {},
   "outputs": [
    {
     "name": "stdout",
     "output_type": "stream",
     "text": [
      "Overwriting playground.py\n"
     ]
    }
   ],
   "source": [
    "%%writefile playground.py\n",
    "from mpi4py import MPI\n",
    "import numpy as np\n",
    "import sys\n",
    "\n",
    "time1 = MPI.Wtime()\n",
    "n = 1048576\n",
    "comm = MPI.COMM_WORLD\n",
    "rank = comm.Get_rank()\n",
    "size = comm.Get_size()\n",
    "\n",
    "if n % size != 0:\n",
    "    raise ValueError(f\"The number of processes n needs to be a power of 2. Sorry!\")\n",
    "\n",
    "m = n // size\n",
    "\n",
    "B_chunk = np.random.rand(m)\n",
    "C_chunk = np.random.rand(m)\n",
    "A_chunk = B_chunk + C_chunk\n",
    "\n",
    "if rank == 0:\n",
    "    print(A_chunk[0])\n",
    "elif rank == size-1:\n",
    "    print(A_chunk[-1])\n",
    "\n",
    "sys.stdout.flush()\n",
    "comm.Barrier()\n",
    "time2 = MPI.Wtime()\n",
    "if rank == 0:\n",
    "    print(f\"Finished in {time2 - time1} sec.\")\n"
   ]
  },
  {
   "cell_type": "code",
   "execution_count": 77,
   "metadata": {},
   "outputs": [
    {
     "name": "stdout",
     "output_type": "stream",
     "text": [
      "0.3482898489632621\n",
      "0.7875747398064287\n",
      "Finished in 0.03380012512207031 sec.\n"
     ]
    }
   ],
   "source": [
    "%%bash\n",
    "mpirun -n 2 python playground.py"
   ]
  },
  {
   "cell_type": "code",
   "execution_count": 76,
   "metadata": {},
   "outputs": [
    {
     "name": "stdout",
     "output_type": "stream",
     "text": [
      "1.4266662031540376\n",
      "1.5166515249076427\n",
      "Finished in 0.031232118606567383 sec.\n"
     ]
    }
   ],
   "source": [
    "%%bash\n",
    "mpirun -n 4 python playground.py"
   ]
  },
  {
   "cell_type": "code",
   "execution_count": 75,
   "metadata": {},
   "outputs": [
    {
     "name": "stdout",
     "output_type": "stream",
     "text": [
      "1.000501044818679\n",
      "1.1425933173122513\n",
      "Finished in 0.07453513145446777 sec.\n"
     ]
    }
   ],
   "source": [
    "%%bash\n",
    "mpirun -n 8 python playground.py"
   ]
  },
  {
   "cell_type": "code",
   "execution_count": 74,
   "metadata": {},
   "outputs": [
    {
     "name": "stdout",
     "output_type": "stream",
     "text": [
      "1.0410288035406272\n",
      "1.0512516150574411\n",
      "Finished in 0.06569218635559082 sec.\n"
     ]
    }
   ],
   "source": [
    "%%bash\n",
    "mpirun -n 16 python playground.py"
   ]
  },
  {
   "cell_type": "code",
   "execution_count": 71,
   "metadata": {},
   "outputs": [
    {
     "name": "stdout",
     "output_type": "stream",
     "text": [
      "Overwriting playground2.py\n"
     ]
    }
   ],
   "source": [
    "%%writefile playground2.py\n",
    "from mpi4py import MPI\n",
    "import numpy as np\n",
    "import time\n",
    "import sys\n",
    "\n",
    "comm = MPI.COMM_WORLD\n",
    "# comm.Barrier()\n",
    "t_start = MPI.Wtime()\n",
    "\n",
    "n = 1024 # 1048576\n",
    "rank = comm.Get_rank()\n",
    "size = comm.Get_size()\n",
    "\n",
    "if n % size != 0:\n",
    "    raise ValueError(f\"Vector of length {n} needs to be split evenly!\")\n",
    "\n",
    "m = n // size\n",
    "\n",
    "B_chunk = np.random.rand(m)\n",
    "C_chunk = np.random.rand(m)\n",
    "A_chunk = B_chunk * C_chunk\n",
    "sum_chunk = np.sum(A_chunk)\n",
    "sum_ = 0\n",
    "\n",
    "comm.Reduce(\n",
    "    [sum_chunk, MPI.DOUBLE],\n",
    "    [sum_, MPI.DOUBLE],\n",
    "    op = MPI.SUM,\n",
    "    root = 0\n",
    ")\n",
    "\n",
    "\n",
    "\n",
    "comm.Barrier()\n",
    "t_end = MPI.Wtime()\n",
    "if rank == 0:\n",
    "    print(f\"Suma: {sum_}.\")\n",
    "    print(f\"Finished in {t_end - t_start} sec.\")"
   ]
  },
  {
   "cell_type": "code",
   "execution_count": 72,
   "metadata": {},
   "outputs": [
    {
     "name": "stdout",
     "output_type": "stream",
     "text": [
      "Suma: 0.\n",
      "Finished in 0.017780065536499023 sec.\n"
     ]
    }
   ],
   "source": [
    "%%bash\n",
    "mpirun -n 4 python playground2.py"
   ]
  },
  {
   "cell_type": "code",
   "execution_count": null,
   "metadata": {},
   "outputs": [],
   "source": []
  }
 ],
 "metadata": {
  "kernelspec": {
   "display_name": "Python 3",
   "language": "python",
   "name": "python3"
  },
  "language_info": {
   "codemirror_mode": {
    "name": "ipython",
    "version": 3
   },
   "file_extension": ".py",
   "mimetype": "text/x-python",
   "name": "python",
   "nbconvert_exporter": "python",
   "pygments_lexer": "ipython3",
   "version": "3.6.8"
  }
 },
 "nbformat": 4,
 "nbformat_minor": 2
}
