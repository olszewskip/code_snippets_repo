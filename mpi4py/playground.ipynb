{
 "cells": [
  {
   "cell_type": "code",
   "execution_count": 13,
   "metadata": {},
   "outputs": [
    {
     "name": "stdout",
     "output_type": "stream",
     "text": [
      "Overwriting tutorial1.py\n"
     ]
    }
   ],
   "source": [
    "%%writefile tutorial1.py\n",
    "from mpi4py import MPI\n",
    "\n",
    "comm = MPI.COMM_WORLD\n",
    "rank = comm.Get_rank()\n",
    "\n",
    "if rank == 0:\n",
    "    data = {'a': 7, 'b': 3.14}\n",
    "    comm.send(data, dest=1, tag=11) # tag may be omitted\n",
    "elif rank == 1:\n",
    "    data = comm.recv(source=0, tag=11)\n",
    "    print(rank, data)\n"
   ]
  },
  {
   "cell_type": "code",
   "execution_count": 14,
   "metadata": {},
   "outputs": [
    {
     "name": "stdout",
     "output_type": "stream",
     "text": [
      "1 {'a': 7, 'b': 3.14}\n"
     ]
    }
   ],
   "source": [
    "%%bash\n",
    "mpirun -n 4 python tutorial1.py"
   ]
  },
  {
   "cell_type": "markdown",
   "metadata": {},
   "source": [
    "---"
   ]
  },
  {
   "cell_type": "code",
   "execution_count": null,
   "metadata": {},
   "outputs": [],
   "source": [
    "%%writefile tutorial2.py\n",
    "from mpi4py import MPI\n",
    "\n",
    "comm = MPI.COMM_WORLD\n",
    "rank = comm.Get_rank()\n",
    "\n",
    "if rank == 0:\n",
    "    data = {'a': 7, 'b': 3.14}\n",
    "    req = comm.isend(data, dest=1, tag=11)\n",
    "    req.wait()\n",
    "elif rank == 1:\n",
    "    req = comm.irecv(source=0, tag=11)\n",
    "    data = req.wait()\n",
    "    print(rank, data)"
   ]
  },
  {
   "cell_type": "code",
   "execution_count": 12,
   "metadata": {},
   "outputs": [
    {
     "name": "stdout",
     "output_type": "stream",
     "text": [
      "1 {'a': 7, 'b': 3.14}\n"
     ]
    }
   ],
   "source": [
    "%%bash\n",
    "mpirun -n 4 python tutorial2.py"
   ]
  },
  {
   "cell_type": "markdown",
   "metadata": {},
   "source": [
    "---"
   ]
  },
  {
   "cell_type": "code",
   "execution_count": 25,
   "metadata": {},
   "outputs": [
    {
     "name": "stdout",
     "output_type": "stream",
     "text": [
      "Overwriting tutorial3.py\n"
     ]
    }
   ],
   "source": [
    "%%writefile tutorial3.py\n",
    "from mpi4py import MPI\n",
    "import numpy\n",
    "\n",
    "comm = MPI.COMM_WORLD\n",
    "rank = comm.Get_rank()\n",
    "\n",
    "# passing MPI datatypes explicitly\n",
    "if rank == 0:\n",
    "    data = numpy.arange(20, dtype='i')\n",
    "    print('a', rank, data, data.dtype)\n",
    "    comm.Send([data, MPI.INT], dest=1, tag=77)\n",
    "elif rank == 1:\n",
    "    data = numpy.empty(20, dtype='i')\n",
    "    comm.Recv([data, MPI.INT], source=0, tag=77)\n",
    "    print('b', rank, data, data.dtype)\n",
    "    \n",
    "\n",
    "# automatic MPI datatype discovery\n",
    "if rank == 0:\n",
    "    data = numpy.arange(10, dtype=numpy.float64)\n",
    "    print('a', rank, data, data.dtype)\n",
    "    comm.Send(data, dest=1, tag=13)\n",
    "elif rank == 1:\n",
    "    data = numpy.empty(10, dtype=numpy.float64)\n",
    "    comm.Recv(data, source=0, tag=13)\n",
    "    print('b', rank, data, data.dtype)"
   ]
  },
  {
   "cell_type": "code",
   "execution_count": 26,
   "metadata": {},
   "outputs": [
    {
     "name": "stdout",
     "output_type": "stream",
     "text": [
      "a 0 [ 0  1  2  3  4  5  6  7  8  9 10 11 12 13 14 15 16 17 18 19] int32\n",
      "a 0 [0. 1. 2. 3. 4. 5. 6. 7. 8. 9.] float64\n",
      "b 1 [ 0  1  2  3  4  5  6  7  8  9 10 11 12 13 14 15 16 17 18 19] int32\n",
      "b 1 [0. 1. 2. 3. 4. 5. 6. 7. 8. 9.] float64\n"
     ]
    }
   ],
   "source": [
    "%%bash\n",
    "mpirun -n 4 python tutorial3.py"
   ]
  },
  {
   "cell_type": "markdown",
   "metadata": {},
   "source": [
    "---\n",
    "bcast"
   ]
  },
  {
   "cell_type": "code",
   "execution_count": 5,
   "metadata": {},
   "outputs": [
    {
     "name": "stdout",
     "output_type": "stream",
     "text": [
      "Overwriting tutorial4.py\n"
     ]
    }
   ],
   "source": [
    "%%writefile tutorial4.py\n",
    "from mpi4py import MPI\n",
    "\n",
    "comm = MPI.COMM_WORLD\n",
    "rank = comm.Get_rank()\n",
    "\n",
    "if rank == 0:\n",
    "    data = {'key1' : [7, 2.72, 2+3j],\n",
    "            'key2' : ( 'abc', 'xyz')}\n",
    "else:\n",
    "    data = None\n",
    "    \n",
    "data = comm.bcast(data, root=0)\n",
    "\n",
    "print(rank, data)"
   ]
  },
  {
   "cell_type": "code",
   "execution_count": 4,
   "metadata": {},
   "outputs": [
    {
     "name": "stdout",
     "output_type": "stream",
     "text": [
      "0 {'key1': [7, 2.72, (2+3j)], 'key2': ('abc', 'xyz')}\n",
      "2 {'key1': [7, 2.72, (2+3j)], 'key2': ('abc', 'xyz')}\n",
      "1 {'key1': [7, 2.72, (2+3j)], 'key2': ('abc', 'xyz')}\n",
      "3 {'key1': [7, 2.72, (2+3j)], 'key2': ('abc', 'xyz')}\n"
     ]
    }
   ],
   "source": [
    "%%bash\n",
    "mpirun -n 4 python tutorial4.py"
   ]
  },
  {
   "cell_type": "markdown",
   "metadata": {},
   "source": [
    "---\n",
    "scatter"
   ]
  },
  {
   "cell_type": "code",
   "execution_count": 30,
   "metadata": {},
   "outputs": [
    {
     "name": "stdout",
     "output_type": "stream",
     "text": [
      "Overwriting tutorial5.py\n"
     ]
    }
   ],
   "source": [
    "%%writefile tutorial5.py\n",
    "from mpi4py import MPI\n",
    "\n",
    "comm = MPI.COMM_WORLD\n",
    "size = comm.Get_size()\n",
    "rank = comm.Get_rank()\n",
    "\n",
    "if rank == 0:\n",
    "    data = [(i+1)**2 for i in range(size)]\n",
    "else:\n",
    "    data = None\n",
    "data = comm.scatter(data, root=0)\n",
    "assert data == (rank+1)**2"
   ]
  },
  {
   "cell_type": "code",
   "execution_count": 31,
   "metadata": {},
   "outputs": [],
   "source": [
    "%%bash\n",
    "mpirun -n 4 python tutorial5.py"
   ]
  },
  {
   "cell_type": "markdown",
   "metadata": {},
   "source": [
    "---\n",
    "gather"
   ]
  },
  {
   "cell_type": "code",
   "execution_count": 34,
   "metadata": {},
   "outputs": [
    {
     "name": "stdout",
     "output_type": "stream",
     "text": [
      "Overwriting tutorial6.py\n"
     ]
    }
   ],
   "source": [
    "%%writefile tutorial6.py\n",
    "from mpi4py import MPI\n",
    "\n",
    "comm = MPI.COMM_WORLD\n",
    "size = comm.Get_size()\n",
    "rank = comm.Get_rank()\n",
    "\n",
    "data = (rank+1)**2\n",
    "data = comm.gather(data, root=0)\n",
    "if rank == 0:\n",
    "    for i in range(size):\n",
    "        assert data[i] == (i+1)**2\n",
    "else:\n",
    "    assert data is None\n",
    "    \n",
    "print(rank, data, type(data))"
   ]
  },
  {
   "cell_type": "code",
   "execution_count": 35,
   "metadata": {},
   "outputs": [
    {
     "name": "stdout",
     "output_type": "stream",
     "text": [
      "2 None <class 'NoneType'>\n",
      "3 None <class 'NoneType'>\n",
      "1 None <class 'NoneType'>\n",
      "0 [1, 4, 9, 16] <class 'list'>\n"
     ]
    }
   ],
   "source": [
    "%%bash\n",
    "mpirun -n 4 python tutorial6.py"
   ]
  },
  {
   "cell_type": "markdown",
   "metadata": {},
   "source": [
    "---\n",
    "Bcast"
   ]
  },
  {
   "cell_type": "code",
   "execution_count": 50,
   "metadata": {},
   "outputs": [
    {
     "name": "stdout",
     "output_type": "stream",
     "text": [
      "Overwriting tutorial7.py\n"
     ]
    }
   ],
   "source": [
    "%%writefile tutorial7.py\n",
    "from mpi4py import MPI\n",
    "import numpy as np\n",
    "\n",
    "comm = MPI.COMM_WORLD\n",
    "rank = comm.Get_rank()\n",
    "\n",
    "if rank == 0:\n",
    "    data = np.arange(10, dtype='int64')\n",
    "else:\n",
    "    data = np.empty(10, dtype='int64')\n",
    "    \n",
    "# print('a', rank, data)\n",
    "    \n",
    "comm.Bcast(data, root=0)\n",
    "for i in range(10):\n",
    "    assert data[i] == i\n",
    "\n",
    "print('b', rank, data, data.dtype)"
   ]
  },
  {
   "cell_type": "code",
   "execution_count": 51,
   "metadata": {},
   "outputs": [
    {
     "name": "stdout",
     "output_type": "stream",
     "text": [
      "b 0 [0 1 2 3 4 5 6 7 8 9] int64\n",
      "b 1 [0 1 2 3 4 5 6 7 8 9] int64\n",
      "b 2 [0 1 2 3 4 5 6 7 8 9] int64\n",
      "b 3 [0 1 2 3 4 5 6 7 8 9] int64\n"
     ]
    }
   ],
   "source": [
    "%%bash\n",
    "mpiexec -n 4 python tutorial7.py"
   ]
  },
  {
   "cell_type": "markdown",
   "metadata": {},
   "source": [
    "---\n",
    "Scatter"
   ]
  },
  {
   "cell_type": "code",
   "execution_count": 63,
   "metadata": {},
   "outputs": [
    {
     "name": "stdout",
     "output_type": "stream",
     "text": [
      "Overwriting tutorial8.py\n"
     ]
    }
   ],
   "source": [
    "%%writefile tutorial8.py\n",
    "\n",
    "from mpi4py import MPI\n",
    "import numpy as np\n",
    "\n",
    "comm = MPI.COMM_WORLD\n",
    "size = comm.Get_size()\n",
    "rank = comm.Get_rank()\n",
    "\n",
    "sendbuf = None\n",
    "\n",
    "if rank == 0:\n",
    "    sendbuf = np.empty([size, 10], dtype='int32')\n",
    "    sendbuf.T[:,:] = range(size)\n",
    "    \n",
    "print(rank, sendbuf)\n",
    "\n",
    "recvbuf = np.empty(10, dtype='int32')\n",
    "comm.Scatter(sendbuf, recvbuf, root=0)\n",
    "assert np.allclose(recvbuf, rank)\n",
    "\n",
    "print(rank, recvbuf)"
   ]
  },
  {
   "cell_type": "code",
   "execution_count": 64,
   "metadata": {},
   "outputs": [
    {
     "name": "stdout",
     "output_type": "stream",
     "text": [
      "1 None\n",
      "2 None\n",
      "0 [[0 0 0 0 0 0 0 0 0 0]\n",
      " [1 1 1 1 1 1 1 1 1 1]\n",
      " [2 2 2 2 2 2 2 2 2 2]\n",
      " [3 3 3 3 3 3 3 3 3 3]]\n",
      "0 [0 0 0 0 0 0 0 0 0 0]\n",
      "2 [2 2 2 2 2 2 2 2 2 2]\n",
      "1 [1 1 1 1 1 1 1 1 1 1]\n",
      "3 None\n",
      "3 [3 3 3 3 3 3 3 3 3 3]\n"
     ]
    }
   ],
   "source": [
    "%%bash\n",
    "mpiexec -n 4 python tutorial8.py"
   ]
  },
  {
   "cell_type": "markdown",
   "metadata": {},
   "source": [
    "---\n",
    "Gather"
   ]
  },
  {
   "cell_type": "code",
   "execution_count": 88,
   "metadata": {},
   "outputs": [
    {
     "name": "stdout",
     "output_type": "stream",
     "text": [
      "Overwriting tutorial9.py\n"
     ]
    }
   ],
   "source": [
    "%%writefile tutorial9.py\n",
    "\n",
    "from mpi4py import MPI\n",
    "import numpy as np\n",
    "\n",
    "time0 = MPI.Wtime()\n",
    "\n",
    "comm = MPI.COMM_WORLD\n",
    "size = comm.Get_size()\n",
    "rank = comm.Get_rank()\n",
    "\n",
    "sendbuf = np.zeros(10, dtype='int32') + rank\n",
    "recvbuf = None\n",
    "if rank == 0:\n",
    "    recvbuf = np.empty((size, 10), dtype='int32')\n",
    "    \n",
    "comm.Gather(sendbuf, recvbuf, root=0)\n",
    "if rank == 0:\n",
    "    for i in range(size):\n",
    "        assert np.allclose(recvbuf[i,:], i)\n",
    "        \n",
    "time1 = MPI.Wtime()\n",
    "        \n",
    "print(rank, recvbuf)\n",
    "print()"
   ]
  },
  {
   "cell_type": "code",
   "execution_count": 89,
   "metadata": {},
   "outputs": [
    {
     "name": "stdout",
     "output_type": "stream",
     "text": [
      "2 None\n",
      "3 None\n",
      "1 None\n",
      "0 [[0 0 0 0 0 0 0 0 0 0]\n",
      " [1 1 1 1 1 1 1 1 1 1]\n",
      " [2 2 2 2 2 2 2 2 2 2]\n",
      " [3 3 3 3 3 3 3 3 3 3]]\n"
     ]
    }
   ],
   "source": [
    "%%bash\n",
    "mpiexec -n 4 python tutorial9.py"
   ]
  },
  {
   "cell_type": "markdown",
   "metadata": {},
   "source": [
    "---\n",
    "matrix times vector"
   ]
  },
  {
   "cell_type": "code",
   "execution_count": 25,
   "metadata": {},
   "outputs": [
    {
     "name": "stdout",
     "output_type": "stream",
     "text": [
      "Overwriting tutorial10.py\n"
     ]
    }
   ],
   "source": [
    "%%writefile tutorial10.py\n",
    "\n",
    "from mpi4py import MPI\n",
    "import numpy as np\n",
    "\n",
    "comm = MPI.COMM_WORLD\n",
    "comm.Barrier()\n",
    "time0 = MPI.Wtime()\n",
    "\n",
    "rank = comm.Get_rank()\n",
    "size = comm.Get_size()\n",
    "\n",
    "if rank == 0:\n",
    "    A_sendbuf = 2 * np.eye(size, dtype='float64')\n",
    "    x = np.ones(size, dtype='float64')\n",
    "else:\n",
    "    A_sendbuf = None\n",
    "    x = np.empty(size, dtype='float64')\n",
    "    \n",
    "A_recvbuf = np.empty(size, dtype='float64')\n",
    "comm.Scatter(A_sendbuf, A_recvbuf, root=0)\n",
    "comm.Bcast(x, root=0)\n",
    "\n",
    "y_sendbuf = A_recvbuf @ x\n",
    "\n",
    "if rank == 0:\n",
    "    y_recvbuf = np.empty(size, dtype='float64')\n",
    "else:\n",
    "    y_recvbuf = None\n",
    "\n",
    "comm.Gather(y_sendbuf, y_recvbuf, root=0)\n",
    "\n",
    "comm.Barrier()\n",
    "time1 = MPI.Wtime()\n",
    "\n",
    "print(f\"{rank})\", \"y =\", y_recvbuf)\n",
    "print(f\"{rank})\", f\"Finished in {time1 - time0} sec.\")"
   ]
  },
  {
   "cell_type": "code",
   "execution_count": 26,
   "metadata": {},
   "outputs": [
    {
     "name": "stdout",
     "output_type": "stream",
     "text": [
      "1) y = None\n",
      "1) Finished in 0.00010699099993871641 sec.\n",
      "0) y = [2. 2.]\n",
      "0) Finished in 0.00010391599994363787 sec.\n"
     ]
    }
   ],
   "source": [
    "%%bash\n",
    "mpiexec -n 2 python tutorial10.py"
   ]
  },
  {
   "cell_type": "markdown",
   "metadata": {},
   "source": [
    "---"
   ]
  },
  {
   "cell_type": "code",
   "execution_count": 33,
   "metadata": {},
   "outputs": [
    {
     "data": {
      "text/plain": [
       "array([0.757519  , 0.88116086, 0.52228093, 0.10717209, 0.3158788 ,\n",
       "       0.8082816 , 0.8868301 , 0.48951027, 0.8587338 , 0.6576507 ],\n",
       "      dtype=float32)"
      ]
     },
     "execution_count": 33,
     "metadata": {},
     "output_type": "execute_result"
    }
   ],
   "source": [
    "np.random.rand(10).astype('float32')"
   ]
  },
  {
   "cell_type": "code",
   "execution_count": 75,
   "metadata": {},
   "outputs": [
    {
     "name": "stdout",
     "output_type": "stream",
     "text": [
      "Overwriting zad1.py\n"
     ]
    }
   ],
   "source": [
    "%%writefile zad1.py\n",
    "from mpi4py import MPI\n",
    "import numpy as np\n",
    "\n",
    "comm = MPI.COMM_WORLD\n",
    "comm.Barrier()\n",
    "time0 = MPI.Wtime()\n",
    "rank = comm.Get_rank()\n",
    "size = comm.Get_size()\n",
    "\n",
    "n = 1048576\n",
    "dtype = \"float32\"\n",
    "\n",
    "if n % size != 0:\n",
    "    raise ValueError(\"The number of processes n needs to be a power of 2.\")\n",
    "\n",
    "dim0 = size\n",
    "dim1 = int(n / size)\n",
    "\n",
    "if rank == 0:\n",
    "    \n",
    "    B = np.random.rand(n).astype(dtype)\n",
    "    B_sendbuf = B.reshape(dim0, dim1)\n",
    "    \n",
    "    C = np.random.rand(n).astype(dtype)\n",
    "    C_sendbuf = C.reshape(dim0, dim1)\n",
    "    \n",
    "else:\n",
    "    B_sendbuf = None\n",
    "    C_sendbuf = None\n",
    "    \n",
    "B_recvbuf = np.empty(dim1, dtype)\n",
    "comm.Scatter(B_sendbuf, B_recvbuf, root=0)\n",
    "# print(f\"{rank}) {B_recvbuf}\")\n",
    "\n",
    "C_recvbuf = np.empty(dim1, dtype)\n",
    "comm.Scatter(C_sendbuf, C_recvbuf, root=0)\n",
    "# print(f\"{rank}) {C_recvbuf}\")\n",
    "\n",
    "# the main operation\n",
    "A_sendbuf = B_recvbuf + C_recvbuf\n",
    "# print(f\"{rank}) {A_sendbuf}\")\n",
    "\n",
    "if rank == 0:\n",
    "    A_recvbuf = np.empty((dim0, dim1), dtype)\n",
    "else:\n",
    "    A_recvbuf = None\n",
    "    \n",
    "comm.Gather(A_sendbuf, A_recvbuf, root=0)\n",
    "\n",
    "if rank == 0:\n",
    "    # print(f\"{rank}) {A_recvbuf}\")\n",
    "    A = A_recvbuf.reshape(n)\n",
    "    print(f\"A[0]={A[0]}, A[-1]={A[-1]}\")\n",
    "    time1 = MPI.Wtime()\n",
    "    print(f\"n={size}. Finished in {round(time1-time0, 4)} sec.\")\n"
   ]
  },
  {
   "cell_type": "code",
   "execution_count": 76,
   "metadata": {},
   "outputs": [
    {
     "name": "stdout",
     "output_type": "stream",
     "text": [
      "0) [0.73222566 0.8941225  0.4816885  ... 0.6515011  0.18181139 0.23014529]\n",
      "0) [0.82473207 0.4052693  0.74302924 ... 0.36945987 0.8996042  0.71465087]\n",
      "0) [1.5569577  1.2993917  1.2247177  ... 1.020961   1.0814157  0.94479614]\n",
      "0) [[1.5569577  1.2993917  1.2247177  ... 1.020961   1.0814157  0.94479614]]\n",
      "A[0]=1.556957721710205, A[-1]=0.9447961449623108\n",
      "n=1. Finished in 0.0376 sec.\n"
     ]
    }
   ],
   "source": [
    "%%bash\n",
    "mpiexec -n 1 python zad1.py"
   ]
  },
  {
   "cell_type": "code",
   "execution_count": 74,
   "metadata": {},
   "outputs": [
    {
     "name": "stdout",
     "output_type": "stream",
     "text": [
      "1) [0.5468354 0.8402812]\n",
      "0) [0.06538939 0.13555093]\n",
      "1) [0.96718705 0.43062687]\n",
      "0) [0.9307776 0.9587859]\n",
      "1) [1.5140225 1.2709081]\n",
      "0) [0.996167  1.0943369]\n",
      "0) [[0.996167  1.0943369]\n",
      " [1.5140225 1.2709081]]\n",
      "A[0]=0.996167004108429, A[-1]=1.2709081172943115\n",
      "n=2. Finished in 0.001 sec.\n"
     ]
    }
   ],
   "source": [
    "%%bash\n",
    "mpiexec -n 2 python zad1.py"
   ]
  },
  {
   "cell_type": "code",
   "execution_count": 69,
   "metadata": {},
   "outputs": [
    {
     "name": "stdout",
     "output_type": "stream",
     "text": [
      "A[0]=0.765357494354248, A[-1]=0.8946854472160339\n",
      "n=4. Finished in 0.4217 sec.\n"
     ]
    }
   ],
   "source": [
    "%%bash\n",
    "mpiexec -n 4 python zad1.py"
   ]
  },
  {
   "cell_type": "code",
   "execution_count": 64,
   "metadata": {},
   "outputs": [
    {
     "name": "stdout",
     "output_type": "stream",
     "text": [
      "A[0]=1.5346081256866455, A[-1]=1.2148113250732422\n",
      "n=8. Finished in 0.172 sec.\n"
     ]
    }
   ],
   "source": [
    "%%bash\n",
    "mpiexec -n 8 python zad1.py"
   ]
  },
  {
   "cell_type": "code",
   "execution_count": 65,
   "metadata": {},
   "outputs": [
    {
     "name": "stdout",
     "output_type": "stream",
     "text": [
      "A[0]=1.1890690326690674, A[-1]=0.8396216630935669\n",
      "n=16. Finished in 0.2798 sec.\n"
     ]
    }
   ],
   "source": [
    "%%bash\n",
    "mpiexec -n 16 python zad1.py"
   ]
  },
  {
   "cell_type": "markdown",
   "metadata": {},
   "source": [
    "---\n",
    "old"
   ]
  },
  {
   "cell_type": "code",
   "execution_count": 73,
   "metadata": {},
   "outputs": [
    {
     "name": "stdout",
     "output_type": "stream",
     "text": [
      "Overwriting playground.py\n"
     ]
    }
   ],
   "source": [
    "%%writefile playground.py\n",
    "from mpi4py import MPI\n",
    "import numpy as np\n",
    "import sys\n",
    "\n",
    "time1 = MPI.Wtime()\n",
    "n = 1048576\n",
    "comm = MPI.COMM_WORLD\n",
    "rank = comm.Get_rank()\n",
    "size = comm.Get_size()\n",
    "\n",
    "if n % size != 0:\n",
    "    raise ValueError(f\"The number of processes n needs to be a power of 2. Sorry!\")\n",
    "\n",
    "m = n // size\n",
    "\n",
    "B_chunk = np.random.rand(m)\n",
    "C_chunk = np.random.rand(m)\n",
    "A_chunk = B_chunk + C_chunk\n",
    "\n",
    "if rank == 0:\n",
    "    print(A_chunk[0])\n",
    "elif rank == size-1:\n",
    "    print(A_chunk[-1])\n",
    "\n",
    "sys.stdout.flush()\n",
    "comm.Barrier()\n",
    "time2 = MPI.Wtime()\n",
    "if rank == 0:\n",
    "    print(f\"Finished in {time2 - time1} sec.\")\n"
   ]
  },
  {
   "cell_type": "code",
   "execution_count": 77,
   "metadata": {},
   "outputs": [
    {
     "name": "stdout",
     "output_type": "stream",
     "text": [
      "0.3482898489632621\n",
      "0.7875747398064287\n",
      "Finished in 0.03380012512207031 sec.\n"
     ]
    }
   ],
   "source": [
    "%%bash\n",
    "mpirun -n 2 python playground.py"
   ]
  },
  {
   "cell_type": "code",
   "execution_count": 76,
   "metadata": {},
   "outputs": [
    {
     "name": "stdout",
     "output_type": "stream",
     "text": [
      "1.4266662031540376\n",
      "1.5166515249076427\n",
      "Finished in 0.031232118606567383 sec.\n"
     ]
    }
   ],
   "source": [
    "%%bash\n",
    "mpirun -n 4 python playground.py"
   ]
  },
  {
   "cell_type": "code",
   "execution_count": 75,
   "metadata": {},
   "outputs": [
    {
     "name": "stdout",
     "output_type": "stream",
     "text": [
      "1.000501044818679\n",
      "1.1425933173122513\n",
      "Finished in 0.07453513145446777 sec.\n"
     ]
    }
   ],
   "source": [
    "%%bash\n",
    "mpirun -n 8 python playground.py"
   ]
  },
  {
   "cell_type": "code",
   "execution_count": 74,
   "metadata": {},
   "outputs": [
    {
     "name": "stdout",
     "output_type": "stream",
     "text": [
      "1.0410288035406272\n",
      "1.0512516150574411\n",
      "Finished in 0.06569218635559082 sec.\n"
     ]
    }
   ],
   "source": [
    "%%bash\n",
    "mpirun -n 16 python playground.py"
   ]
  },
  {
   "cell_type": "code",
   "execution_count": 71,
   "metadata": {},
   "outputs": [
    {
     "name": "stdout",
     "output_type": "stream",
     "text": [
      "Overwriting playground2.py\n"
     ]
    }
   ],
   "source": [
    "%%writefile playground2.py\n",
    "from mpi4py import MPI\n",
    "import numpy as np\n",
    "import time\n",
    "import sys\n",
    "\n",
    "comm = MPI.COMM_WORLD\n",
    "# comm.Barrier()\n",
    "t_start = MPI.Wtime()\n",
    "\n",
    "n = 1024 # 1048576\n",
    "rank = comm.Get_rank()\n",
    "size = comm.Get_size()\n",
    "\n",
    "if n % size != 0:\n",
    "    raise ValueError(f\"Vector of length {n} needs to be split evenly!\")\n",
    "\n",
    "m = n // size\n",
    "\n",
    "B_chunk = np.random.rand(m)\n",
    "C_chunk = np.random.rand(m)\n",
    "A_chunk = B_chunk * C_chunk\n",
    "sum_chunk = np.sum(A_chunk)\n",
    "sum_ = 0\n",
    "\n",
    "comm.Reduce(\n",
    "    [sum_chunk, MPI.DOUBLE],\n",
    "    [sum_, MPI.DOUBLE],\n",
    "    op = MPI.SUM,\n",
    "    root = 0\n",
    ")\n",
    "\n",
    "\n",
    "\n",
    "comm.Barrier()\n",
    "t_end = MPI.Wtime()\n",
    "if rank == 0:\n",
    "    print(f\"Suma: {sum_}.\")\n",
    "    print(f\"Finished in {t_end - t_start} sec.\")"
   ]
  },
  {
   "cell_type": "code",
   "execution_count": 72,
   "metadata": {},
   "outputs": [
    {
     "name": "stdout",
     "output_type": "stream",
     "text": [
      "Suma: 0.\n",
      "Finished in 0.017780065536499023 sec.\n"
     ]
    }
   ],
   "source": [
    "%%bash\n",
    "mpirun -n 4 python playground2.py"
   ]
  },
  {
   "cell_type": "code",
   "execution_count": null,
   "metadata": {},
   "outputs": [],
   "source": []
  }
 ],
 "metadata": {
  "kernelspec": {
   "display_name": "Python 3",
   "language": "python",
   "name": "python3"
  },
  "language_info": {
   "codemirror_mode": {
    "name": "ipython",
    "version": 3
   },
   "file_extension": ".py",
   "mimetype": "text/x-python",
   "name": "python",
   "nbconvert_exporter": "python",
   "pygments_lexer": "ipython3",
   "version": "3.6.8"
  }
 },
 "nbformat": 4,
 "nbformat_minor": 2
}
